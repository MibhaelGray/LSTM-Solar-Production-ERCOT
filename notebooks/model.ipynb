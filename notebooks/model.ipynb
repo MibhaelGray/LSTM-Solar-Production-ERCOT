{
 "cells": [
  {
   "cell_type": "markdown",
   "id": "93485a4b",
   "metadata": {},
   "source": [
    "# LSTM-Solar-Production-ERCOT\n",
    "\n",
    "The idea behind this project is to forecast when energy price spikes will occur in HB_NORTH and HB_WEST. By forecasting when energy energy price spikes occur we can enable battery companies in Texas to more efficiently perform energy arbitrage. \n",
    "\n",
    "### Value Proposition Of Project:\n",
    "\n",
    "A battery in West Texas could charge at $25/MWh and sell at $800/MWh if it could somehow transport that electricity to North Texas (Dallas area) instantly (which it can't). But a battery strategically located between congested areas can capture these price differentials. The ML project predicts the price spread between West and North hubs, with a focus on daily patterns.\n",
    "By forecasting a complex system where supply, demand, transmission constraints, and weather we can create profit opportunities.\n",
    "\n",
    "### Scope:\n",
    "\n",
    "I will focus exclusively on ERCOT's North and West load zones, using historical settlement point price data to build an LSTM model that predicts daily average price spreads between these regions. The model will identify arbitrage opportunities by forecasting when West Texas prices will be significantly lower than North Texas prices (>$25/MWh differential), enabling battery storage companies to optimize charge/discharge timing across geographic locations.\n"
   ]
  },
  {
   "cell_type": "markdown",
   "id": "5b016bbd",
   "metadata": {},
   "source": [
    "## 1. Importing and Cleaning Data:"
   ]
  },
  {
   "cell_type": "code",
   "execution_count": 6,
   "id": "0d7697ac",
   "metadata": {},
   "outputs": [],
   "source": [
    "import pandas as pd\n",
    "\n",
    "hourly_ercot_dam_settlement_data = pd.read_csv(r\"..\\Data\\filter_merged_ercot_data.csv\")\n",
    "\n"
   ]
  }
 ],
 "metadata": {
  "kernelspec": {
   "display_name": "Python 3",
   "language": "python",
   "name": "python3"
  },
  "language_info": {
   "codemirror_mode": {
    "name": "ipython",
    "version": 3
   },
   "file_extension": ".py",
   "mimetype": "text/x-python",
   "name": "python",
   "nbconvert_exporter": "python",
   "pygments_lexer": "ipython3",
   "version": "3.9.5"
  }
 },
 "nbformat": 4,
 "nbformat_minor": 5
}
